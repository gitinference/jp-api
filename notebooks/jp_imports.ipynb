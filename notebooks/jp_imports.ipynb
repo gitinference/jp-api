{
 "cells": [
  {
   "cell_type": "code",
   "execution_count": 1,
   "id": "fde29de4",
   "metadata": {},
   "outputs": [],
   "source": [
    "import os\n",
    "os.chdir(\"..\")"
   ]
  },
  {
   "cell_type": "code",
   "execution_count": null,
   "id": "7ce8c049",
   "metadata": {},
   "outputs": [
    {
     "ename": "ImportError",
     "evalue": "cannot import name 'DataGraph' from 'src.submodules.jp_forms.src.viz.data_viz' (/home/ouslan/Documents/Github/jp-api/src/submodules/jp_forms/src/viz/data_viz.py)",
     "output_type": "error",
     "traceback": [
      "\u001b[31m---------------------------------------------------------------------------\u001b[39m",
      "\u001b[31mImportError\u001b[39m                               Traceback (most recent call last)",
      "\u001b[36mCell\u001b[39m\u001b[36m \u001b[39m\u001b[32mIn[3]\u001b[39m\u001b[32m, line 3\u001b[39m\n\u001b[32m      1\u001b[39m \u001b[38;5;28;01mfrom\u001b[39;00m\u001b[38;5;250m \u001b[39m\u001b[34;01mdatetime\u001b[39;00m\u001b[38;5;250m \u001b[39m\u001b[38;5;28;01mimport\u001b[39;00m date\n\u001b[32m      2\u001b[39m \u001b[38;5;28;01mfrom\u001b[39;00m\u001b[38;5;250m \u001b[39m\u001b[34;01msrc\u001b[39;00m\u001b[34;01m.\u001b[39;00m\u001b[34;01msubmodules\u001b[39;00m\u001b[34;01m.\u001b[39;00m\u001b[34;01mjp_index\u001b[39;00m\u001b[34;01m.\u001b[39;00m\u001b[34;01msrc\u001b[39;00m\u001b[34;01m.\u001b[39;00m\u001b[34;01mmodels\u001b[39;00m\u001b[38;5;250m \u001b[39m\u001b[38;5;28;01mimport\u001b[39;00m init_awards_table\n\u001b[32m----> \u001b[39m\u001b[32m3\u001b[39m \u001b[38;5;28;01mfrom\u001b[39;00m\u001b[38;5;250m \u001b[39m\u001b[34;01msrc\u001b[39;00m\u001b[34;01m.\u001b[39;00m\u001b[34;01msubmodules\u001b[39;00m\u001b[34;01m.\u001b[39;00m\u001b[34;01mjp_forms\u001b[39;00m\u001b[34;01m.\u001b[39;00m\u001b[34;01msrc\u001b[39;00m\u001b[34;01m.\u001b[39;00m\u001b[34;01mviz\u001b[39;00m\u001b[34;01m.\u001b[39;00m\u001b[34;01mdata_viz\u001b[39;00m\u001b[38;5;250m \u001b[39m\u001b[38;5;28;01mimport\u001b[39;00m DataGraph\n\u001b[32m      5\u001b[39m di = DataGraph(database_file=\u001b[33m\"\u001b[39m\u001b[33mdata/data.ddb\u001b[39m\u001b[33m\"\u001b[39m)\n",
      "\u001b[31mImportError\u001b[39m: cannot import name 'DataGraph' from 'src.submodules.jp_forms.src.viz.data_viz' (/home/ouslan/Documents/Github/jp-api/src/submodules/jp_forms/src/viz/data_viz.py)"
     ]
    }
   ],
   "source": [
    "from datetime import date\n",
    "from src.submodules.jp_index.src.models import init_awards_table\n",
    "from src.submodules.jp_index.src.viz.data_viz import DataGraph\n",
    "\n",
    "di = DataGraph(database_file=\"data/data.ddb\")\n"
   ]
  },
  {
   "cell_type": "code",
   "execution_count": null,
   "id": "c7bbe649",
   "metadata": {},
   "outputs": [],
   "source": [
    "di."
   ]
  },
  {
   "cell_type": "code",
   "execution_count": 3,
   "id": "d62527d2",
   "metadata": {},
   "outputs": [
    {
     "name": "stdout",
     "output_type": "stream",
     "text": [
      "2008\n",
      "2009\n",
      "2010\n",
      "2011\n",
      "2012\n",
      "2013\n",
      "2014\n",
      "2015\n",
      "2016\n",
      "2017\n",
      "2018\n",
      "2019\n",
      "2020\n",
      "2021\n",
      "2022\n",
      "2023\n"
     ]
    },
    {
     "ename": "InvalidInputException",
     "evalue": "Invalid Input Error: Python Object \"df\" of type \"NoneType\" found on line \"/home/ouslan/Documents/Github/jp-api/src/submodules/jp_index/src/data/data_pull.py:802\" not suitable for replacement scans.\nMake sure that \"df\" is either a pandas.DataFrame, duckdb.DuckDBPyRelation, pyarrow Table, Dataset, RecordBatchReader, Scanner, or NumPy ndarrays with supported format",
     "output_type": "error",
     "traceback": [
      "\u001b[31m---------------------------------------------------------------------------\u001b[39m",
      "\u001b[31mInvalidInputException\u001b[39m                     Traceback (most recent call last)",
      "\u001b[36mCell\u001b[39m\u001b[36m \u001b[39m\u001b[32mIn[3]\u001b[39m\u001b[32m, line 4\u001b[39m\n\u001b[32m      1\u001b[39m current_year = date.today().year\n\u001b[32m      3\u001b[39m \u001b[38;5;28;01mfor\u001b[39;00m year \u001b[38;5;129;01min\u001b[39;00m \u001b[38;5;28mrange\u001b[39m(\u001b[32m2008\u001b[39m, current_year + \u001b[32m1\u001b[39m):\n\u001b[32m----> \u001b[39m\u001b[32m4\u001b[39m     \u001b[43mdi\u001b[49m\u001b[43m.\u001b[49m\u001b[43minsert_awards_by_year\u001b[49m\u001b[43m(\u001b[49m\u001b[43myear\u001b[49m\u001b[43m)\u001b[49m\n",
      "\u001b[36mFile \u001b[39m\u001b[32m~/Documents/Github/jp-api/src/submodules/jp_index/src/data/data_pull.py:802\u001b[39m, in \u001b[36mDataPull.insert_awards_by_year\u001b[39m\u001b[34m(self, fiscal_year)\u001b[39m\n\u001b[32m    800\u001b[39m     \u001b[38;5;28mprint\u001b[39m(fiscal_year)\n\u001b[32m    801\u001b[39m     df = \u001b[38;5;28mself\u001b[39m.pull_awards_by_year(fiscal_year)\n\u001b[32m--> \u001b[39m\u001b[32m802\u001b[39m     \u001b[38;5;28;43mself\u001b[39;49m\u001b[43m.\u001b[49m\u001b[43mconn\u001b[49m\u001b[43m.\u001b[49m\u001b[43msql\u001b[49m\u001b[43m(\u001b[49m\u001b[33;43m\"\u001b[39;49m\u001b[33;43mINSERT INTO \u001b[39;49m\u001b[33;43m'\u001b[39;49m\u001b[33;43mAwardTable\u001b[39;49m\u001b[33;43m'\u001b[39;49m\u001b[33;43m BY NAME SELECT * FROM df;\u001b[39;49m\u001b[33;43m\"\u001b[39;49m\u001b[43m)\u001b[49m\n\u001b[32m    803\u001b[39m     logging.info(\u001b[33mf\u001b[39m\u001b[33m\"\u001b[39m\u001b[33mInserted fiscal year \u001b[39m\u001b[38;5;132;01m{\u001b[39;00mfiscal_year\u001b[38;5;132;01m}\u001b[39;00m\u001b[33m to sqlite table.\u001b[39m\u001b[33m\"\u001b[39m)\n\u001b[32m    804\u001b[39m \u001b[38;5;28;01melse\u001b[39;00m:\n",
      "\u001b[31mInvalidInputException\u001b[39m: Invalid Input Error: Python Object \"df\" of type \"NoneType\" found on line \"/home/ouslan/Documents/Github/jp-api/src/submodules/jp_index/src/data/data_pull.py:802\" not suitable for replacement scans.\nMake sure that \"df\" is either a pandas.DataFrame, duckdb.DuckDBPyRelation, pyarrow Table, Dataset, RecordBatchReader, Scanner, or NumPy ndarrays with supported format"
     ]
    }
   ],
   "source": [
    "current_year = date.today().year\n",
    "\n",
    "for year in range(2008, current_year + 1):\n",
    "    di.insert_awards_by_year(year)"
   ]
  },
  {
   "cell_type": "code",
   "execution_count": null,
   "id": "2feed8b3",
   "metadata": {},
   "outputs": [],
   "source": [
    "df = di.conn.sql(\n",
    "                f\"SELECT * FROM AwardTable WHERE fiscal_year = {2009}\"\n",
    "            ).pl()\n",
    "df.is_empty()"
   ]
  },
  {
   "cell_type": "code",
   "execution_count": null,
   "id": "accfc724",
   "metadata": {},
   "outputs": [],
   "source": [
    "di.pull_awards_by_year(2009)"
   ]
  },
  {
   "cell_type": "code",
   "execution_count": null,
   "id": "8129c253",
   "metadata": {},
   "outputs": [],
   "source": [
    "di.conn.sql(\"SELECT * FROM 'AwardTable';\").pl()"
   ]
  },
  {
   "cell_type": "code",
   "execution_count": null,
   "id": "92d62314",
   "metadata": {},
   "outputs": [],
   "source": [
    "if \"AwardTable\" not in di.conn.sql(\"SHOW TABLES;\").df().get(\"name\").tolist():\n",
    "    init_awards_table(di.data_file)\n"
   ]
  },
  {
   "cell_type": "code",
   "execution_count": null,
   "id": "154b5b99",
   "metadata": {},
   "outputs": [],
   "source": [
    "di.conn.sql(\"SHOW TABLES;\").df().get(\"name\").tolist()"
   ]
  },
  {
   "cell_type": "code",
   "execution_count": null,
   "id": "ae6f639b",
   "metadata": {},
   "outputs": [],
   "source": [
    "from src.submodules.jp_imports.src.data.data_process import DataTrade\n",
    "import polars as pl\n",
    "\n",
    "dt = DataTrade(database_file=\"/home/ouslan/Documents/Github/jp-api/data/data.ddb\")"
   ]
  },
  {
   "cell_type": "code",
   "execution_count": null,
   "id": "c6e4a23a",
   "metadata": {},
   "outputs": [],
   "source": [
    "df = dt.process_int_jp(level_filter=\"\", level=\"hts\", time_frame=\"yearly\")\n",
    "df = df.with_columns(\n",
    "    hts_code_first2=pl.col(\"hts_code\").str.slice(0,2)\n",
    ")\n",
    "df"
   ]
  },
  {
   "cell_type": "code",
   "execution_count": null,
   "id": "13e1a47a",
   "metadata": {},
   "outputs": [],
   "source": [
    "  # Extraer las primeras dos posiciones\n",
    "unique_first2_codes_df = df.select(pl.col(\"hts_code_first2\").unique()).to_series().to_list()  \n",
    "unique_first2_codes_df"
   ]
  },
  {
   "cell_type": "code",
   "execution_count": null,
   "id": "532fd483",
   "metadata": {},
   "outputs": [],
   "source": [
    "df = dt.insert_int_jp()"
   ]
  },
  {
   "cell_type": "code",
   "execution_count": null,
   "id": "c84af188",
   "metadata": {},
   "outputs": [],
   "source": [
    "df"
   ]
  },
  {
   "cell_type": "code",
   "execution_count": null,
   "id": "4b811a15",
   "metadata": {},
   "outputs": [],
   "source": [
    "df.filter(pl.col(\"date\").dt.year() == 2009)"
   ]
  }
 ],
 "metadata": {
  "kernelspec": {
   "display_name": ".venv",
   "language": "python",
   "name": "python3"
  },
  "language_info": {
   "codemirror_mode": {
    "name": "ipython",
    "version": 3
   },
   "file_extension": ".py",
   "mimetype": "text/x-python",
   "name": "python",
   "nbconvert_exporter": "python",
   "pygments_lexer": "ipython3",
   "version": "3.12.11"
  }
 },
 "nbformat": 4,
 "nbformat_minor": 5
}
