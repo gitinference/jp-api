{
 "cells": [
  {
   "cell_type": "code",
   "execution_count": null,
   "id": "fde29de4",
   "metadata": {},
   "outputs": [],
   "source": [
    "import os\n",
    "os.chdir(\"..\")"
   ]
  },
  {
   "cell_type": "code",
   "execution_count": null,
   "id": "ae6f639b",
   "metadata": {},
   "outputs": [],
   "source": [
    "from src.submodules.jp_imports.src.data.data_process import DataTrade\n",
    "import polars as pl\n",
    "\n",
    "dt = DataTrade(database_file=\"/home/ouslan/Documents/Github/jp-api/data/data.ddb\")"
   ]
  },
  {
   "cell_type": "code",
   "execution_count": null,
   "id": "23b519f1",
   "metadata": {},
   "outputs": [],
   "source": [
    "# /data/trade/jp/?time_frame=yearly&level=country&agg=none&agr=false&group=false&datetime=2009"
   ]
  },
  {
   "cell_type": "code",
   "execution_count": null,
   "id": "2af220e0",
   "metadata": {},
   "outputs": [],
   "source": [
    "dt.process_int_jp(time_frame=\"yearly\",level=\"country\",datetime=\"2009\")"
   ]
  },
  {
   "cell_type": "code",
   "execution_count": null,
   "id": "532fd483",
   "metadata": {},
   "outputs": [],
   "source": [
    "df = dt.insert_int_jp()"
   ]
  },
  {
   "cell_type": "code",
   "execution_count": null,
   "id": "c84af188",
   "metadata": {},
   "outputs": [],
   "source": [
    "df"
   ]
  },
  {
   "cell_type": "code",
   "execution_count": null,
   "id": "4b811a15",
   "metadata": {},
   "outputs": [],
   "source": [
    "df.filter(pl.col(\"date\").dt.year() == 2009)"
   ]
  }
 ],
 "metadata": {
  "kernelspec": {
   "display_name": ".venv",
   "language": "python",
   "name": "python3"
  },
  "language_info": {
   "codemirror_mode": {
    "name": "ipython",
    "version": 3
   },
   "file_extension": ".py",
   "mimetype": "text/x-python",
   "name": "python",
   "nbconvert_exporter": "python",
   "pygments_lexer": "ipython3",
   "version": "3.12.10"
  }
 },
 "nbformat": 4,
 "nbformat_minor": 5
}
