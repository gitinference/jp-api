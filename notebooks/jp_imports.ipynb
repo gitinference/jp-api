{
 "cells": [
  {
   "cell_type": "code",
   "execution_count": 1,
   "id": "fde29de4",
   "metadata": {},
   "outputs": [],
   "source": [
    "import os\n",
    "os.chdir(\"..\")"
   ]
  },
  {
   "cell_type": "code",
   "execution_count": 2,
   "id": "7ce8c049",
   "metadata": {},
   "outputs": [],
   "source": [
    "from datetime import date\n",
    "from src.submodules.jp_index.src.graphs import DataGraph\n",
    "\n",
    "di = DataGraph(database_file=\"data/data.ddb\")\n"
   ]
  },
  {
   "cell_type": "code",
   "execution_count": 3,
   "id": "d62527d2",
   "metadata": {},
   "outputs": [
    {
     "name": "stdout",
     "output_type": "stream",
     "text": [
      "2021\n",
      "2022\n",
      "2023\n",
      "2024\n",
      "2025\n"
     ]
    }
   ],
   "source": [
    "current_year = date.today().year\n",
    "\n",
    "for year in range(2008, current_year + 1):\n",
    "    di.insert_awards_by_year(year)"
   ]
  },
  {
   "cell_type": "code",
   "execution_count": null,
   "id": "2feed8b3",
   "metadata": {},
   "outputs": [],
   "source": [
    "df = di.conn.sql(\n",
    "                f\"SELECT * FROM AwardTable WHERE fiscal_year = {2009}\"\n",
    "            ).pl()\n",
    "df.is_empty()"
   ]
  },
  {
   "cell_type": "code",
   "execution_count": null,
   "id": "accfc724",
   "metadata": {},
   "outputs": [],
   "source": [
    "di.pull_awards_by_year(2009)"
   ]
  },
  {
   "cell_type": "code",
   "execution_count": null,
   "id": "8129c253",
   "metadata": {},
   "outputs": [],
   "source": [
    "di.conn.sql(\"SELECT * FROM 'AwardTable';\").pl()"
   ]
  },
  {
   "cell_type": "code",
   "execution_count": null,
   "id": "92d62314",
   "metadata": {},
   "outputs": [],
   "source": [
    "if \"AwardTable\" not in di.conn.sql(\"SHOW TABLES;\").df().get(\"name\").tolist():\n",
    "    init_awards_table(di.data_file)\n"
   ]
  },
  {
   "cell_type": "code",
   "execution_count": null,
   "id": "154b5b99",
   "metadata": {},
   "outputs": [],
   "source": [
    "di.conn.sql(\"SHOW TABLES;\").df().get(\"name\").tolist()"
   ]
  },
  {
   "cell_type": "code",
   "execution_count": null,
   "id": "ae6f639b",
   "metadata": {},
   "outputs": [],
   "source": [
    "from src.submodules.jp_imports.src.data.data_process import DataTrade\n",
    "import polars as pl\n",
    "\n",
    "dt = DataTrade(database_file=\"/home/ouslan/Documents/Github/jp-api/data/data.ddb\")"
   ]
  },
  {
   "cell_type": "code",
   "execution_count": null,
   "id": "c6e4a23a",
   "metadata": {},
   "outputs": [],
   "source": [
    "df = dt.process_int_jp(level_filter=\"\", level=\"hts\", time_frame=\"yearly\")\n",
    "df = df.with_columns(\n",
    "    hts_code_first2=pl.col(\"hts_code\").str.slice(0,2)\n",
    ")\n",
    "df"
   ]
  },
  {
   "cell_type": "code",
   "execution_count": null,
   "id": "13e1a47a",
   "metadata": {},
   "outputs": [],
   "source": [
    "  # Extraer las primeras dos posiciones\n",
    "unique_first2_codes_df = df.select(pl.col(\"hts_code_first2\").unique()).to_series().to_list()  \n",
    "unique_first2_codes_df"
   ]
  },
  {
   "cell_type": "code",
   "execution_count": null,
   "id": "532fd483",
   "metadata": {},
   "outputs": [],
   "source": [
    "df = dt.insert_int_jp()"
   ]
  },
  {
   "cell_type": "code",
   "execution_count": null,
   "id": "c84af188",
   "metadata": {},
   "outputs": [],
   "source": [
    "df"
   ]
  },
  {
   "cell_type": "code",
   "execution_count": null,
   "id": "4b811a15",
   "metadata": {},
   "outputs": [],
   "source": [
    "df.filter(pl.col(\"date\").dt.year() == 2009)"
   ]
  }
 ],
 "metadata": {
  "kernelspec": {
   "display_name": ".venv",
   "language": "python",
   "name": "python3"
  },
  "language_info": {
   "codemirror_mode": {
    "name": "ipython",
    "version": 3
   },
   "file_extension": ".py",
   "mimetype": "text/x-python",
   "name": "python",
   "nbconvert_exporter": "python",
   "pygments_lexer": "ipython3",
   "version": "3.12.11"
  }
 },
 "nbformat": 4,
 "nbformat_minor": 5
}
